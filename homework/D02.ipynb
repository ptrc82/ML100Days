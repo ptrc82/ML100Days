{
 "cells": [
  {
   "cell_type": "code",
   "execution_count": 1,
   "metadata": {},
   "outputs": [],
   "source": [
    "import numpy as np"
   ]
  },
  {
   "cell_type": "code",
   "execution_count": 2,
   "metadata": {},
   "outputs": [
    {
     "data": {
      "text/plain": [
       "array([[ 0,  1,  2,  3],\n",
       "       [ 4,  5,  6,  7],\n",
       "       [ 8,  9, 10, 11]])"
      ]
     },
     "execution_count": 2,
     "metadata": {},
     "output_type": "execute_result"
    }
   ],
   "source": [
    "a = np.array([[0,1,2,3], [4,5,6,7], [8,9,10,11]])\n",
    "a"
   ]
  },
  {
   "cell_type": "code",
   "execution_count": 3,
   "metadata": {},
   "outputs": [
    {
     "data": {
      "text/plain": [
       "array([ 0,  1,  2,  3,  4,  5,  6,  7,  8,  9, 10, 11])"
      ]
     },
     "execution_count": 3,
     "metadata": {},
     "output_type": "execute_result"
    }
   ],
   "source": [
    "a.flatten()"
   ]
  },
  {
   "cell_type": "code",
   "execution_count": 4,
   "metadata": {},
   "outputs": [
    {
     "data": {
      "text/plain": [
       "array([ 0,  1,  2,  3,  4,  5,  6,  7,  8,  9, 10, 11])"
      ]
     },
     "execution_count": 4,
     "metadata": {},
     "output_type": "execute_result"
    }
   ],
   "source": [
    "b = a.ravel()\n",
    "b"
   ]
  },
  {
   "cell_type": "code",
   "execution_count": 5,
   "metadata": {},
   "outputs": [
    {
     "name": "stdout",
     "output_type": "stream",
     "text": [
      "[ 0  1  2  3  4 82  6  7  8  9 10 11]\n",
      "[[ 0  1  2  3]\n",
      " [ 4 82  6  7]\n",
      " [ 8  9 10 11]]\n"
     ]
    }
   ],
   "source": [
    "b[5] = 82\n",
    "print(b)\n",
    "print(a)"
   ]
  },
  {
   "cell_type": "code",
   "execution_count": 6,
   "metadata": {},
   "outputs": [
    {
     "name": "stdout",
     "output_type": "stream",
     "text": [
      "[ 0  1  2  3  4 82  6  7  8  9 10 11]\n",
      "[ 0  4  8  1 82  9  2  6 10  3  7 11]\n"
     ]
    }
   ],
   "source": [
    "print(b)\n",
    "c = a.ravel(order = 'F')\n",
    "print(c)"
   ]
  },
  {
   "cell_type": "code",
   "execution_count": 7,
   "metadata": {},
   "outputs": [
    {
     "data": {
      "text/plain": [
       "array([ 0,  1,  2,  3,  4,  5,  6,  7,  8,  9, 10, 11, 12, 13, 14, 15, 16,\n",
       "       17])"
      ]
     },
     "execution_count": 7,
     "metadata": {},
     "output_type": "execute_result"
    }
   ],
   "source": [
    "## a.reshape() np.reshape(a, shape) \n",
    "d = np.arange(18)\n",
    "d"
   ]
  },
  {
   "cell_type": "code",
   "execution_count": 8,
   "metadata": {},
   "outputs": [
    {
     "data": {
      "text/plain": [
       "array([[ 0,  1,  2],\n",
       "       [ 3,  4,  5],\n",
       "       [ 6,  7,  8],\n",
       "       [ 9, 10, 11],\n",
       "       [12, 13, 14],\n",
       "       [15, 16, 17]])"
      ]
     },
     "execution_count": 8,
     "metadata": {},
     "output_type": "execute_result"
    }
   ],
   "source": [
    "d.reshape(6, 3)"
   ]
  },
  {
   "cell_type": "code",
   "execution_count": 9,
   "metadata": {},
   "outputs": [
    {
     "data": {
      "text/plain": [
       "array([[ 0,  2,  4,  6,  8],\n",
       "       [10, 12, 14, 16, 18],\n",
       "       [20, 22, 24, 26, 28],\n",
       "       [30, 32, 34, 36, 38],\n",
       "       [40, 42, 44, 46, 48]])"
      ]
     },
     "execution_count": 9,
     "metadata": {},
     "output_type": "execute_result"
    }
   ],
   "source": [
    "np.reshape(np.arange(0, 50, 2), (5,-1))"
   ]
  },
  {
   "cell_type": "code",
   "execution_count": 10,
   "metadata": {
    "scrolled": true
   },
   "outputs": [
    {
     "name": "stdout",
     "output_type": "stream",
     "text": [
      "[[ 0  1  2  3  4  5  6]\n",
      " [ 7  8  9 10 11 12 13]\n",
      " [14 15 16 17 18 19 20]]\n",
      "[[ 0  1  2  3  4  5  6  7  8]\n",
      " [ 9 10 11 12 13 14 15 16 17]\n",
      " [18 19 20  0  0  0  0  0  0]\n",
      " [ 0  0  0  0  0  0  0  0  0]]\n",
      "[0 1]\n"
     ]
    }
   ],
   "source": [
    "e = np.arange(21)\n",
    "e.resize((3,7), refcheck = True)\n",
    "print(e)\n",
    "e.flatten\n",
    "e.resize((4,9), refcheck = False)\n",
    "print(e)\n",
    "e.flatten\n",
    "e.resize(2)\n",
    "print(e)"
   ]
  },
  {
   "cell_type": "code",
   "execution_count": 11,
   "metadata": {},
   "outputs": [
    {
     "data": {
      "text/plain": [
       "array([[[ 1,  2,  3,  4],\n",
       "        [ 4,  5,  6,  7],\n",
       "        [ 7,  8,  9,  9]],\n",
       "\n",
       "       [[ 2,  4,  6,  4],\n",
       "        [ 8, 10, 12,  3],\n",
       "        [ 5,  6,  7,  2]]])"
      ]
     },
     "execution_count": 11,
     "metadata": {},
     "output_type": "execute_result"
    }
   ],
   "source": [
    "f = np.array([[[1,2,3,4],[4,5,6,7],[7,8,9,9]], [[2,4,6,4], [8,10,12,3], [5,6,7,2]]])\n",
    "f"
   ]
  },
  {
   "cell_type": "code",
   "execution_count": 12,
   "metadata": {},
   "outputs": [
    {
     "name": "stdout",
     "output_type": "stream",
     "text": [
      "(2, 3, 4)\n",
      "[[ 3  6  9  8]\n",
      " [12 15 18 10]\n",
      " [12 14 16 11]]\n",
      "[[12 15 18 20]\n",
      " [15 20 25  9]]\n",
      "[[10 22 33]\n",
      " [16 33 20]]\n"
     ]
    }
   ],
   "source": [
    "print(f.shape)\n",
    "print(f.sum(axis = 0))\n",
    "print(f.sum(axis = 1))\n",
    "print(f.sum(axis = 2))"
   ]
  },
  {
   "cell_type": "code",
   "execution_count": 13,
   "metadata": {},
   "outputs": [
    {
     "data": {
      "text/plain": [
       "array([[ 0,  1,  2,  3,  4,  5],\n",
       "       [ 6,  7,  8,  9, 10, 11],\n",
       "       [12, 13, 14, 15, 16, 17]])"
      ]
     },
     "execution_count": 13,
     "metadata": {},
     "output_type": "execute_result"
    }
   ],
   "source": [
    "g = np.arange(18).reshape(3,-1)\n",
    "g"
   ]
  },
  {
   "cell_type": "code",
   "execution_count": 14,
   "metadata": {},
   "outputs": [
    {
     "name": "stdout",
     "output_type": "stream",
     "text": [
      "[[[ 0  1  2  3  4  5]]\n",
      "\n",
      " [[ 6  7  8  9 10 11]]\n",
      "\n",
      " [[12 13 14 15 16 17]]]\n"
     ]
    }
   ],
   "source": [
    "h = g[:, np.newaxis,:]\n",
    "print(h)\n"
   ]
  },
  {
   "cell_type": "code",
   "execution_count": 15,
   "metadata": {},
   "outputs": [
    {
     "name": "stdout",
     "output_type": "stream",
     "text": [
      "[[0 1]\n",
      " [2 3]\n",
      " [4 5]\n",
      " [6 7]\n",
      " [8 9]\n",
      " [0 1]\n",
      " [2 3]\n",
      " [4 5]\n",
      " [6 7]]\n",
      "[[ 0  1  0  1  2]\n",
      " [ 2  3  3  4  5]\n",
      " [ 4  5  6  7  8]\n",
      " [ 6  7  9 10 11]\n",
      " [ 8  9 12 13 14]]\n"
     ]
    }
   ],
   "source": [
    "i = np.arange(10).reshape(5,2)\n",
    "j = np.arange(8).reshape(4,2)\n",
    "k = np.arange(15).reshape(5,3)\n",
    "\n",
    "print(np.concatenate((i,j)))\n",
    "print(np.concatenate((i,k), axis = 1))"
   ]
  },
  {
   "cell_type": "code",
   "execution_count": 16,
   "metadata": {},
   "outputs": [
    {
     "name": "stdout",
     "output_type": "stream",
     "text": [
      "[[0 1]\n",
      " [2 3]\n",
      " [4 5]\n",
      " [6 7]\n",
      " [8 9]]\n",
      "[[ 0  3]\n",
      " [ 6  9]\n",
      " [12 15]\n",
      " [18 21]\n",
      " [24 27]]\n",
      "-------------\n",
      "[[[ 0  1]\n",
      "  [ 2  3]\n",
      "  [ 4  5]\n",
      "  [ 6  7]\n",
      "  [ 8  9]]\n",
      "\n",
      " [[ 0  3]\n",
      "  [ 6  9]\n",
      "  [12 15]\n",
      "  [18 21]\n",
      "  [24 27]]]\n",
      "--------------\n",
      "[[[ 0  1]\n",
      "  [ 0  3]]\n",
      "\n",
      " [[ 2  3]\n",
      "  [ 6  9]]\n",
      "\n",
      " [[ 4  5]\n",
      "  [12 15]]\n",
      "\n",
      " [[ 6  7]\n",
      "  [18 21]]\n",
      "\n",
      " [[ 8  9]\n",
      "  [24 27]]]\n"
     ]
    }
   ],
   "source": [
    "l = np.arange(0,30,3).reshape(5,2)\n",
    "print(i)\n",
    "print(l)\n",
    "print(\"-------------\")\n",
    "print(np.stack((i,l), axis = 0))\n",
    "print(\"--------------\")\n",
    "print(np.stack((i,l), axis = 1))"
   ]
  },
  {
   "cell_type": "code",
   "execution_count": 17,
   "metadata": {},
   "outputs": [
    {
     "name": "stdout",
     "output_type": "stream",
     "text": [
      "[[ 0  1  0  3]\n",
      " [ 2  3  6  9]\n",
      " [ 4  5 12 15]\n",
      " [ 6  7 18 21]\n",
      " [ 8  9 24 27]]\n",
      "[[ 0  1]\n",
      " [ 2  3]\n",
      " [ 4  5]\n",
      " [ 6  7]\n",
      " [ 8  9]\n",
      " [ 0  3]\n",
      " [ 6  9]\n",
      " [12 15]\n",
      " [18 21]\n",
      " [24 27]]\n"
     ]
    }
   ],
   "source": [
    "print(np.hstack((i,l)))\n",
    "print(np.vstack((i,l)))"
   ]
  },
  {
   "cell_type": "code",
   "execution_count": 18,
   "metadata": {},
   "outputs": [
    {
     "data": {
      "text/plain": [
       "array([[ 0,  1,  2,  3,  4],\n",
       "       [ 5,  6,  7,  8,  9],\n",
       "       [10, 11, 12, 13, 14],\n",
       "       [15, 16, 17, 18, 19]])"
      ]
     },
     "execution_count": 18,
     "metadata": {},
     "output_type": "execute_result"
    }
   ],
   "source": [
    "m = np.arange(20).reshape(4,5)\n",
    "m"
   ]
  },
  {
   "cell_type": "code",
   "execution_count": 19,
   "metadata": {},
   "outputs": [
    {
     "data": {
      "text/plain": [
       "[array([[0, 1, 2, 3, 4],\n",
       "        [5, 6, 7, 8, 9]]),\n",
       " array([[10, 11, 12, 13, 14],\n",
       "        [15, 16, 17, 18, 19]]),\n",
       " array([], shape=(0, 5), dtype=int64)]"
      ]
     },
     "execution_count": 19,
     "metadata": {},
     "output_type": "execute_result"
    }
   ],
   "source": [
    "np.split(m, [2,4])"
   ]
  },
  {
   "cell_type": "code",
   "execution_count": 20,
   "metadata": {},
   "outputs": [
    {
     "data": {
      "text/plain": [
       "[array([[0, 1, 2, 3, 4]]),\n",
       " array([[ 5,  6,  7,  8,  9],\n",
       "        [10, 11, 12, 13, 14]]),\n",
       " array([[15, 16, 17, 18, 19]])]"
      ]
     },
     "execution_count": 20,
     "metadata": {},
     "output_type": "execute_result"
    }
   ],
   "source": [
    "np.split(m, [1,3])"
   ]
  },
  {
   "cell_type": "code",
   "execution_count": 21,
   "metadata": {},
   "outputs": [
    {
     "data": {
      "text/plain": [
       "[array([[0, 1, 2, 3, 4]]),\n",
       " array([[5, 6, 7, 8, 9]]),\n",
       " array([[10, 11, 12, 13, 14]]),\n",
       " array([[15, 16, 17, 18, 19]])]"
      ]
     },
     "execution_count": 21,
     "metadata": {},
     "output_type": "execute_result"
    }
   ],
   "source": [
    "np.split(m, 4)"
   ]
  },
  {
   "cell_type": "code",
   "execution_count": 22,
   "metadata": {},
   "outputs": [
    {
     "data": {
      "text/plain": [
       "array([[ 0,  1,  2,  3,  4,  5,  6,  7,  8,  9],\n",
       "       [10, 11, 12, 13, 14, 15, 16, 17, 18, 19],\n",
       "       [20, 21, 22, 23, 24, 25, 26, 27, 28, 29],\n",
       "       [30, 31, 32, 33, 34, 35, 36, 37, 38, 39]])"
      ]
     },
     "execution_count": 22,
     "metadata": {},
     "output_type": "execute_result"
    }
   ],
   "source": [
    "n = np.arange(40).reshape(4,10)\n",
    "n"
   ]
  },
  {
   "cell_type": "code",
   "execution_count": 23,
   "metadata": {},
   "outputs": [
    {
     "data": {
      "text/plain": [
       "[array([[ 0],\n",
       "        [10],\n",
       "        [20],\n",
       "        [30]]),\n",
       " array([[ 1],\n",
       "        [11],\n",
       "        [21],\n",
       "        [31]]),\n",
       " array([[ 2],\n",
       "        [12],\n",
       "        [22],\n",
       "        [32]]),\n",
       " array([[ 3,  4,  5,  6,  7,  8,  9],\n",
       "        [13, 14, 15, 16, 17, 18, 19],\n",
       "        [23, 24, 25, 26, 27, 28, 29],\n",
       "        [33, 34, 35, 36, 37, 38, 39]])]"
      ]
     },
     "execution_count": 23,
     "metadata": {},
     "output_type": "execute_result"
    }
   ],
   "source": [
    "np.hsplit(n, [1,2,3])"
   ]
  },
  {
   "cell_type": "code",
   "execution_count": 24,
   "metadata": {},
   "outputs": [
    {
     "data": {
      "text/plain": [
       "[array([[ 0,  1,  2,  3,  4,  5,  6,  7,  8,  9],\n",
       "        [10, 11, 12, 13, 14, 15, 16, 17, 18, 19]]),\n",
       " array([[20, 21, 22, 23, 24, 25, 26, 27, 28, 29],\n",
       "        [30, 31, 32, 33, 34, 35, 36, 37, 38, 39]])]"
      ]
     },
     "execution_count": 24,
     "metadata": {},
     "output_type": "execute_result"
    }
   ],
   "source": [
    "np.vsplit(n, 2)"
   ]
  },
  {
   "cell_type": "code",
   "execution_count": 25,
   "metadata": {},
   "outputs": [
    {
     "name": "stdout",
     "output_type": "stream",
     "text": [
      "0\n",
      "1\n",
      "2\n",
      "3\n",
      "4\n",
      "5\n",
      "6\n",
      "7\n",
      "8\n",
      "9\n",
      "10\n",
      "11\n",
      "12\n",
      "13\n",
      "14\n",
      "15\n"
     ]
    }
   ],
   "source": [
    "n = np.arange(16)\n",
    "for i in n:\n",
    "    print(i)"
   ]
  },
  {
   "cell_type": "code",
   "execution_count": 26,
   "metadata": {},
   "outputs": [
    {
     "name": "stdout",
     "output_type": "stream",
     "text": [
      "[0 1 2 3 4 5 6 7]\n",
      "[ 8  9 10 11 12 13 14 15]\n"
     ]
    }
   ],
   "source": [
    "for i in n.reshape(2,8):\n",
    "    print(i)"
   ]
  },
  {
   "cell_type": "code",
   "execution_count": 27,
   "metadata": {},
   "outputs": [
    {
     "name": "stdout",
     "output_type": "stream",
     "text": [
      "0\n",
      "1\n",
      "2\n",
      "3\n",
      "4\n",
      "5\n",
      "6\n",
      "7\n",
      "8\n",
      "9\n",
      "10\n",
      "11\n",
      "12\n",
      "13\n",
      "14\n",
      "15\n"
     ]
    }
   ],
   "source": [
    "for i in n.flat:\n",
    "    print(i)"
   ]
  },
  {
   "cell_type": "code",
   "execution_count": 32,
   "metadata": {},
   "outputs": [
    {
     "name": "stdout",
     "output_type": "stream",
     "text": [
      "[10 58 13  9 10 54 81 64  7 29 87 76 24  1  6 39]\n",
      "87\n",
      "1\n",
      "-------------\n",
      "[[10 58 13  9 10 54 81 64]\n",
      " [ 7 29 87 76 24  1  6 39]]\n",
      "[[87]]\n",
      "[81 87]\n",
      "[81 87]\n",
      "-------------\n",
      "[ 7 29 13  9 10  1  6 39]\n",
      "[9 1]\n",
      "[ 7 29 13  9 10  1  6 39]\n",
      "[9 1]\n"
     ]
    }
   ],
   "source": [
    "o = np.random.randint(1,100,16)\n",
    "print(o)\n",
    "print(np.amax(o))\n",
    "print(np.amin(o))\n",
    "print(\"-------------\")\n",
    "p = o.reshape(2,8)\n",
    "print(p)\n",
    "print(np.amax(p, keepdims = True))\n",
    "print(p.max(axis = 1))\n",
    "print(np.amax(p, axis = 1))\n",
    "print(\"-------------\")\n",
    "print(np.amin(p, axis = 0))\n",
    "print(np.amin(p, axis = 1))\n",
    "print(p.min(axis = 0))\n",
    "print(p.min(axis = 1))"
   ]
  },
  {
   "cell_type": "code",
   "execution_count": 35,
   "metadata": {},
   "outputs": [
    {
     "name": "stdout",
     "output_type": "stream",
     "text": [
      "[[45 48]\n",
      " [65 68]\n",
      " [68 10]\n",
      " [84 22]\n",
      " [37 88]\n",
      " [71 89]\n",
      " [89 13]\n",
      " [59 66]]\n",
      "11\n",
      "[6 5]\n",
      "[1 1 0 0 1 1 0 1]\n",
      "-----------\n",
      "11\n",
      "-----------\n",
      "[4 2]\n"
     ]
    }
   ],
   "source": [
    "np.random.seed(0)\n",
    "q = np.random.randint(1,100, size = (8,2)) \n",
    "print(q)\n",
    "print(np.argmax(q))\n",
    "print(np.argmax(q, axis = 0))\n",
    "print(np.argmax(q, axis = 1))\n",
    "print(\"-----------\")\n",
    "print(q.argmax())\n",
    "print(\"-----------\")\n",
    "print(np.argmin(q, axis = 0))"
   ]
  },
  {
   "cell_type": "code",
   "execution_count": 41,
   "metadata": {},
   "outputs": [
    {
     "name": "stdout",
     "output_type": "stream",
     "text": [
      "[[45 48 65 68]\n",
      " [68 10 84 22]\n",
      " [37 88 71 89]\n",
      " [89 13 59 66]\n",
      " [40 88 47 89]]\n",
      "[[False False  True  True]\n",
      " [ True False  True False]\n",
      " [False  True  True  True]\n",
      " [ True False False  True]\n",
      " [False  True False  True]]\n",
      "(array([0, 0, 1, 1, 2, 2, 2, 3, 3, 4, 4]), array([2, 3, 0, 2, 1, 2, 3, 0, 3, 1, 3]))\n",
      "[['smaller than 16' 'smaller than 16' 'larger than 16' 'larger than 16']\n",
      " ['larger than 16' 'smaller than 16' 'larger than 16' 'smaller than 16']\n",
      " ['smaller than 16' 'larger than 16' 'larger than 16' 'larger than 16']\n",
      " ['larger than 16' 'smaller than 16' 'smaller than 16' 'larger than 16']\n",
      " ['smaller than 16' 'larger than 16' 'smaller than 16' 'larger than 16']]\n"
     ]
    }
   ],
   "source": [
    "np.random.seed(0)\n",
    "r = np.random.randint(1,100,size = (5,4))\n",
    "print(r)\n",
    "print(r>64)\n",
    "print(np.where(r > 64))\n",
    "print(np.where(r > 64, \"larger than 16\", \"smaller than 16\"))"
   ]
  },
  {
   "cell_type": "code",
   "execution_count": 42,
   "metadata": {},
   "outputs": [
    {
     "name": "stdout",
     "output_type": "stream",
     "text": [
      "[[45 48]\n",
      " [65 68]\n",
      " [68 10]\n",
      " [84 22]\n",
      " [37 88]\n",
      " [71 89]\n",
      " [89 13]\n",
      " [59 66]]\n",
      "(array([0, 0, 1, 1, 2, 2, 3, 3, 4, 4, 5, 5, 6, 6, 7, 7]), array([0, 1, 0, 1, 0, 1, 0, 1, 0, 1, 0, 1, 0, 1, 0, 1]))\n",
      "(array([0, 0, 1, 1, 2, 2, 3, 3, 4, 4, 5, 5, 6, 6, 7, 7]), array([0, 1, 0, 1, 0, 1, 0, 1, 0, 1, 0, 1, 0, 1, 0, 1]))\n"
     ]
    }
   ],
   "source": [
    "## np.nonzero() == np.where( !=0)\n",
    "np.random.seed(0)\n",
    "s = np.random.randint(1,100,size = (8,2))\n",
    "print(s)\n",
    "print(np.nonzero(s))\n",
    "print(np.where(s!=0))"
   ]
  },
  {
   "cell_type": "code",
   "execution_count": 46,
   "metadata": {},
   "outputs": [
    {
     "name": "stdout",
     "output_type": "stream",
     "text": [
      "[[45 48 65 68 68 10 84 22]\n",
      " [37 71 13 59 66 40 47 82]]\n",
      "[[10 22 45 48 65 68 68 84]\n",
      " [13 37 40 47 59 66 71 82]]\n",
      "[[5 7 0 1 2 3 4 6]\n",
      " [2 0 5 6 3 4 1 7]]\n",
      "<built-in method argsort of numpy.ndarray object at 0x7fbdb5577e40>\n",
      "----------\n",
      "[[37 48 13 59 66 10 47 22]\n",
      " [45 71 65 68 68 40 84 82]]\n",
      "[[10 22 45 48 65 68 68 84]\n",
      " [13 37 40 47 59 66 71 82]]\n",
      "----------\n",
      "[68269 43568 42614 ... 95405 37901 10246]\n",
      "[   11    14    22 ... 99966 99976 99981]\n"
     ]
    }
   ],
   "source": [
    "np.random.seed(0)\n",
    "t = np.random.randint(1,88, size = (2,8))\n",
    "print(t)\n",
    "print(np.sort(t))\n",
    "print(np.argsort(t))\n",
    "print(t.argsort)\n",
    "print('----------')\n",
    "print(np.sort(t, axis = 0))\n",
    "print(np.sort(t, axis = 1))\n",
    "print('----------')\n",
    "np.random.seed(0)\n",
    "u = np.random.randint(1,100000, 10000)\n",
    "print(u)\n",
    "print(np.sort(u, kind = 'quicksort'))"
   ]
  },
  {
   "cell_type": "code",
   "execution_count": null,
   "metadata": {},
   "outputs": [],
   "source": []
  }
 ],
 "metadata": {
  "kernelspec": {
   "display_name": "Python 3",
   "language": "python",
   "name": "python3"
  },
  "language_info": {
   "codemirror_mode": {
    "name": "ipython",
    "version": 3
   },
   "file_extension": ".py",
   "mimetype": "text/x-python",
   "name": "python",
   "nbconvert_exporter": "python",
   "pygments_lexer": "ipython3",
   "version": "3.7.6"
  }
 },
 "nbformat": 4,
 "nbformat_minor": 4
}
