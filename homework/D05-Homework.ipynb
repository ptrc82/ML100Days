{
 "cells": [
  {
   "cell_type": "markdown",
   "metadata": {
    "id": "oef8c2jr-PZY"
   },
   "source": [
    "作業目標<br>\n",
    "計算有缺失值的資料，統計量實作<br>\n",
    "作業重點<br>\n",
    "當遇到缺失值有函式可以處理，不須額外寫程式刪除<br>\n",
    "計算統計量時不能出現缺失值"
   ]
  },
  {
   "cell_type": "markdown",
   "metadata": {
    "id": "4YgL8NF4-Ru3"
   },
   "source": [
    "題目:<br>\n",
    "english_score = np.array([55,89,76,65,48,70])<br>\n",
    "math_score = np.array([60,85,60,68,np.nan,60])<br>\n",
    "chinese_score = np.array([65,90,82,72,66,77])<br>\n",
    "上3列共六位同學的英文、數學、國文成績，第一個元素代表第一位同學，舉例第一位同學英文55分、數學60分、國文65分，今天第五位同學因某原因沒來考試，導致數學成績缺值，運用上列數據回答下列問題。<br>\n",
    "1. 請計算各科成績平均、最大值、最小值、標準差，其中數學缺一筆資料可忽略?\n",
    "2. 第五位同學補考數學後成績為55，請計算補考後數學成績平均、最大值、最小值、標準差?\n",
    "3. 用補考後資料找出與國文成績相關係數最高的學科?"
   ]
  },
  {
   "cell_type": "code",
   "execution_count": 1,
   "metadata": {
    "executionInfo": {
     "elapsed": 617,
     "status": "ok",
     "timestamp": 1609854566856,
     "user": {
      "displayName": "献竤黃",
      "photoUrl": "",
      "userId": "07529243043474362942"
     },
     "user_tz": -480
    },
    "id": "QwsKU8qO-RK7"
   },
   "outputs": [],
   "source": [
    "import numpy as np"
   ]
  },
  {
   "cell_type": "code",
   "execution_count": 2,
   "metadata": {
    "executionInfo": {
     "elapsed": 1016,
     "status": "ok",
     "timestamp": 1609854567261,
     "user": {
      "displayName": "献竤黃",
      "photoUrl": "",
      "userId": "07529243043474362942"
     },
     "user_tz": -480
    },
    "id": "B5BqDQAe_czh"
   },
   "outputs": [],
   "source": [
    "es = np.array([55,89,76,65,48,70])\n",
    "ms = np.array([60,85,60,68,np.nan,60])\n",
    "chs = np.array([65,90,82,72,66,77])"
   ]
  },
  {
   "cell_type": "code",
   "execution_count": 5,
   "metadata": {
    "executionInfo": {
     "elapsed": 1005,
     "status": "ok",
     "timestamp": 1609854567262,
     "user": {
      "displayName": "献竤黃",
      "photoUrl": "",
      "userId": "07529243043474362942"
     },
     "user_tz": -480
    },
    "id": "K3tUA6u9aI3N"
   },
   "outputs": [
    {
     "name": "stdout",
     "output_type": "stream",
     "text": [
      "各科成績平均如下：\n",
      "分數無缺失，英文平均分數為： 67.16666666666667\n",
      "分數中有缺失，去除缺失部分的數學平均分數為： 66.6\n",
      "分數無缺失，國文平均分數為： 75.33333333333333\n",
      "-----------------------------------------\n",
      "各科成績最高分如下：\n",
      "分數無缺失，英文最高分為： 89\n",
      "分數中有缺失，去除缺失部分的數學最高分為： 85.0\n",
      "分數無缺失，國文最高分為： 90\n",
      "-----------------------------------------\n",
      "各科成績最低分如下：\n",
      "分數無缺失，英文最低分為： 48\n",
      "分數中有缺失，去除缺失部分的數學最低分為： 60.0\n",
      "分數無缺失，國文最低分為： 65\n",
      "-----------------------------------------\n",
      "各科成績標準差如下：\n",
      "分數無缺失，英文標準差為： 13.433995020924426\n",
      "分數中有缺失，去除缺失部分的數學標準差為： 9.707728879609279\n",
      "分數無缺失，國文標準差為： 8.825468196582484\n"
     ]
    }
   ],
   "source": [
    "#1. 請計算各科成績平均、最大值、最小值、標準差，其中數學缺一筆資料可忽略?\n",
    "print('各科成績平均如下：')\n",
    "if np.isnan(np.mean(es)) ==True:\n",
    "    print(\"分數中有缺失，去除缺失部分的英文平均分數為：\", np.nanmean(es))\n",
    "else:\n",
    "    print(\"分數無缺失，英文平均分數為：\", np.mean(es))\n",
    "\n",
    "if np.isnan(np.mean(ms)) ==True:\n",
    "    print(\"分數中有缺失，去除缺失部分的數學平均分數為：\", np.nanmean(ms))\n",
    "else:\n",
    "    print(\"分數無缺失，數學平均分數為：\", np.mean(ms))\n",
    "\n",
    "if np.isnan(np.mean(es)) ==True:\n",
    "    print(\"分數中有缺失，去除缺失部分的國文平均分數為：\", np.nanmean(chs))\n",
    "else:\n",
    "    print(\"分數無缺失，國文平均分數為：\", np.mean(chs))\n",
    "print('-----------------------------------------')\n",
    "print('各科成績最高分如下：')\n",
    "if np.isnan(np.amax(es)) ==True:\n",
    "    print(\"分數中有缺失，去除缺失部分的英文最高分為：\", np.nanmax(es))\n",
    "else:\n",
    "    print(\"分數無缺失，英文最高分為：\", np.amax(es))\n",
    "\n",
    "if np.isnan(np.amax(ms)) ==True:\n",
    "    print(\"分數中有缺失，去除缺失部分的數學最高分為：\", np.nanmax(ms))\n",
    "else:\n",
    "    print(\"分數無缺失，數學最高分為：\", np.amax(ms))\n",
    "\n",
    "if np.isnan(np.amax(es)) ==True:\n",
    "    print(\"分數中有缺失，去除缺失部分的國文最高分為：\", np.nanmax(chs))\n",
    "else:\n",
    "    print(\"分數無缺失，國文最高分為：\", np.amax(chs))\n",
    "print('-----------------------------------------')\n",
    "print('各科成績最低分如下：')\n",
    "if np.isnan(np.amin(es)) ==True:\n",
    "    print(\"分數中有缺失，去除缺失部分的英文最低分為：\", np.nanmin(es))\n",
    "else:\n",
    "    print(\"分數無缺失，英文最低分為：\", np.amin(es))\n",
    "\n",
    "if np.isnan(np.amin(ms)) ==True:\n",
    "    print(\"分數中有缺失，去除缺失部分的數學最低分為：\", np.nanmin(ms))\n",
    "else:\n",
    "    print(\"分數無缺失，數學最低分數為：\", np.amin(ms))\n",
    "\n",
    "if np.isnan(np.amin(es)) ==True:\n",
    "    print(\"分數中有缺失，去除缺失部分的國文最低分為：\", np.nanmin(chs))\n",
    "else:\n",
    "    print(\"分數無缺失，國文最低分為：\", np.amin(chs))\n",
    "print('-----------------------------------------')\n",
    "print('各科成績標準差如下：')\n",
    "if np.isnan(np.std(es)) ==True:\n",
    "    print(\"分數中有缺失，去除缺失部分的英文標準差為：\", np.nanstd(es))\n",
    "else:\n",
    "    print(\"分數無缺失，英文標準差為：\", np.std(es))\n",
    "\n",
    "if np.isnan(np.std(ms)) ==True:\n",
    "    print(\"分數中有缺失，去除缺失部分的數學標準差為：\", np.nanstd(ms))\n",
    "else:\n",
    "    print(\"分數無缺失，數學標準差為：\", np.std(ms))\n",
    "\n",
    "if np.isnan(np.std(es)) ==True:\n",
    "    print(\"分數中有缺失，去除缺失部分的國文標準差為：\", np.nanstd(chs))\n",
    "else:\n",
    "    print(\"分數無缺失，國文標準差為：\", np.std(chs))"
   ]
  },
  {
   "cell_type": "code",
   "execution_count": 8,
   "metadata": {
    "executionInfo": {
     "elapsed": 996,
     "status": "ok",
     "timestamp": 1609854567262,
     "user": {
      "displayName": "献竤黃",
      "photoUrl": "",
      "userId": "07529243043474362942"
     },
     "user_tz": -480
    },
    "id": "mXjDzvSrbLlf"
   },
   "outputs": [
    {
     "name": "stdout",
     "output_type": "stream",
     "text": [
      "64.66666666666667\n",
      "85.0\n",
      "55.0\n",
      "9.860132971832694\n"
     ]
    }
   ],
   "source": [
    "#2. 第五位同學補考數學後成績為55，請計算補考後數學成績平均、最大值、最小值、標準差?\n",
    "ms[4] = 55\n",
    "print(np.mean(ms))\n",
    "print(np.amax(ms))\n",
    "print(np.amin(ms))\n",
    "print(np.std(ms))"
   ]
  },
  {
   "cell_type": "code",
   "execution_count": 20,
   "metadata": {
    "executionInfo": {
     "elapsed": 989,
     "status": "ok",
     "timestamp": 1609854567264,
     "user": {
      "displayName": "献竤黃",
      "photoUrl": "",
      "userId": "07529243043474362942"
     },
     "user_tz": -480
    },
    "id": "SaGolKx0cKoU"
   },
   "outputs": [
    {
     "name": "stdout",
     "output_type": "stream",
     "text": [
      "國文與數學相關係數為： 1.0\n",
      "國文與英文相關係數為： 1.0\n",
      "英文與數學和國文的相關係數相同\n"
     ]
    }
   ],
   "source": [
    "#3. 用補考後資料找出與國文成績相關係數最高的學科?\n",
    "chm = np.hstack((chs.reshape(1,6), ms.reshape(1,6)))\n",
    "che = np.hstack((chs.reshape(1,6), es.reshape(1,6)))\n",
    "cm = np.corrcoef(chm)\n",
    "ce = np.corrcoef(che)\n",
    "print(\"國文與數學相關係數為：\", cm)\n",
    "print(\"國文與英文相關係數為：\", ce)\n",
    "\n",
    "if cm > ce:\n",
    "    print(\"所以與國文相關係數較高的科目為數學\" )\n",
    "elif cm == ce:\n",
    "    print(\"英文與數學和國文的相關係數相同\")\n",
    "else:\n",
    "    print(\"所以與國文相關係數較高的科目為英文\" )"
   ]
  },
  {
   "cell_type": "code",
   "execution_count": null,
   "metadata": {
    "executionInfo": {
     "elapsed": 987,
     "status": "ok",
     "timestamp": 1609854567264,
     "user": {
      "displayName": "献竤黃",
      "photoUrl": "",
      "userId": "07529243043474362942"
     },
     "user_tz": -480
    },
    "id": "fTNlLZ9Pzyiy"
   },
   "outputs": [],
   "source": []
  }
 ],
 "metadata": {
  "colab": {
   "authorship_tag": "ABX9TyPtywwDR7TsGGEOMGYLDT5h",
   "collapsed_sections": [],
   "name": "作業Hong題目.ipynb",
   "provenance": []
  },
  "kernelspec": {
   "display_name": "Python 3",
   "language": "python",
   "name": "python3"
  },
  "language_info": {
   "codemirror_mode": {
    "name": "ipython",
    "version": 3
   },
   "file_extension": ".py",
   "mimetype": "text/x-python",
   "name": "python",
   "nbconvert_exporter": "python",
   "pygments_lexer": "ipython3",
   "version": "3.7.6"
  }
 },
 "nbformat": 4,
 "nbformat_minor": 1
}
