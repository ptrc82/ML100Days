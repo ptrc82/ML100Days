{
 "cells": [
  {
   "cell_type": "code",
   "execution_count": 1,
   "metadata": {},
   "outputs": [],
   "source": [
    "import numpy as np"
   ]
  },
  {
   "cell_type": "code",
   "execution_count": 2,
   "metadata": {},
   "outputs": [
    {
     "name": "stdout",
     "output_type": "stream",
     "text": [
      "[[45 48 54  1]\n",
      " [ 4  4 40 10]]\n",
      "[4 3 5 1]\n",
      "max, [[45 48 54  1]\n",
      " [ 4  4 40 10]]\n",
      "min, [[4 3 5 1]\n",
      " [4 3 5 1]]\n",
      "with nan, [[nan  4.  5. nan]\n",
      " [nan  4.  5. nan]]\n"
     ]
    }
   ],
   "source": [
    "np.random.seed(0)\n",
    "a = np.random.randint(1, 56, 8).reshape(2,4)\n",
    "b = np.random.randint(1, 6, 4)\n",
    "print(a)\n",
    "print(b)\n",
    "print(\"max,\", np.maximum(a, b))\n",
    "print(\"min,\", np.minimum(a, b))\n",
    "print(\"with nan,\", np.minimum(a, [np.nan, 4, 5, np.nan]))"
   ]
  },
  {
   "cell_type": "code",
   "execution_count": 3,
   "metadata": {},
   "outputs": [
    {
     "name": "stdout",
     "output_type": "stream",
     "text": [
      "[[45 48 54  1]\n",
      " [ 4  4 40 10]]\n",
      "[[45. 48. 54.  1.]\n",
      " [ 4.  4. 40. 10.]]\n"
     ]
    }
   ],
   "source": [
    "print(np.fmax(a, b))\n",
    "print(np.fmin(a, [np.nan,np.nan,np.nan,np.nan]))\n",
    "#遇到nan: maximum,min回傳nan; fmax,fmin回傳非nan值"
   ]
  },
  {
   "cell_type": "code",
   "execution_count": 4,
   "metadata": {},
   "outputs": [
    {
     "name": "stdout",
     "output_type": "stream",
     "text": [
      "5.0\n",
      "nan\n"
     ]
    },
    {
     "name": "stderr",
     "output_type": "stream",
     "text": [
      "/opt/anaconda3/lib/python3.7/site-packages/ipykernel_launcher.py:2: RuntimeWarning: All-NaN axis encountered\n",
      "  \n"
     ]
    }
   ],
   "source": [
    "print(np.nanmax([1,2,3,4,5,np.nan]))\n",
    "print(np.nanmin([np.nan, np.nan, np.nan]))"
   ]
  },
  {
   "cell_type": "code",
   "execution_count": 5,
   "metadata": {},
   "outputs": [
    {
     "data": {
      "text/plain": [
       "array([ 1.,  6., 11., 16., 21., 26., 31., 36., 41., 46., 51., 56., 61.,\n",
       "       66., 71., 76., 81., 86., 91., 96.], dtype=float32)"
      ]
     },
     "execution_count": 5,
     "metadata": {},
     "output_type": "execute_result"
    }
   ],
   "source": [
    "c = np.arange(1, 100, 5).astype('float32')##astype用意？\n",
    "c"
   ]
  },
  {
   "cell_type": "code",
   "execution_count": 6,
   "metadata": {},
   "outputs": [
    {
     "name": "stdout",
     "output_type": "stream",
     "text": [
      "[24.75 29.5  48.5 ]\n",
      "cc =  [ 1. nan nan nan 21. 26. 31. 36. 41. 46. 51. 56. 61. 66. 71. 76. 81. 86.\n",
      " 91. 96.]\n",
      "------comparison--------\n",
      "nan\n",
      "76.0\n"
     ]
    }
   ],
   "source": [
    "print(np.percentile(c, [25,30,50]))\n",
    "c[1] = np.nan\n",
    "c[2] = np.nan\n",
    "c[3] = np.nan\n",
    "\n",
    "print(\"cc = \", c)\n",
    "print(\"------comparison--------\")\n",
    "print(np.percentile(c, 75))\n",
    "print(np.nanpercentile(c, 75))"
   ]
  },
  {
   "cell_type": "code",
   "execution_count": 7,
   "metadata": {},
   "outputs": [
    {
     "name": "stdout",
     "output_type": "stream",
     "text": [
      "[ 1  6 11 16 21 26 31 36 41 46 51 56 61 66 71 76 81 86 91 93]\n",
      "24.75\n",
      "[[23.  2.  1. nan]\n",
      " [ 9. 25. nan 48.]\n",
      " [43.  9. 35. nan]\n",
      " [ 4.  9. nan  3.]\n",
      " [ 5. 25. 45. 13.]]\n",
      "[[ 5.  9. 18.  8.]]\n"
     ]
    }
   ],
   "source": [
    "d = np.array([1,  6, 11, 16, 21, 26, 31, 36, 41, 46, 51, 56, 61, 66, 71, 76, 81, 86, 91, 93])\n",
    "print(d)\n",
    "print(np.quantile(d, 0.25))\n",
    "\n",
    "e = np.array([23,  2,  1, np.nan,  9, 25, np.nan, 48, 43,  9, 35,  np.nan,  4,  9, np.nan,  3,  5, 25, 45, 13]).reshape(5, 4)\n",
    "print(e)\n",
    "print(np.nanquantile(e, 0.25, axis = 0, keepdims = True))"
   ]
  },
  {
   "cell_type": "code",
   "execution_count": 8,
   "metadata": {},
   "outputs": [
    {
     "name": "stdout",
     "output_type": "stream",
     "text": [
      "nan\n"
     ]
    }
   ],
   "source": [
    "f = np.array([23,  2,  1, np.nan,  9, 25, np.nan, \n",
    "              48, 43,  9, 31,  np.nan]).reshape(3, 4)\n",
    "print(np.mean(f))"
   ]
  },
  {
   "cell_type": "code",
   "execution_count": 9,
   "metadata": {},
   "outputs": [
    {
     "name": "stdout",
     "output_type": "stream",
     "text": [
      "陣列中含有NaN，去除NaN後平均值為： 21.22222222222222\n"
     ]
    }
   ],
   "source": [
    "if np.isnan(np.mean(f)) == True :\n",
    "    print('陣列中含有NaN，去除NaN後平均值為：', np.nanmean(f))\n",
    "else:\n",
    "    print('陣列中未含有NaN，平均值為：', np.mean(f))"
   ]
  },
  {
   "cell_type": "code",
   "execution_count": 10,
   "metadata": {},
   "outputs": [
    {
     "name": "stdout",
     "output_type": "stream",
     "text": [
      "[[ 0  1  2  3  4]\n",
      " [ 5  6  7  8  9]\n",
      " [10 11 12 13 14]]\n",
      "[ 6.875  7.875  8.875  9.875 10.875]\n",
      "[ 2.4375  7.4375 12.4375]\n"
     ]
    }
   ],
   "source": [
    "g = np.arange(15).reshape(3,5)\n",
    "print(g)\n",
    "print(np.average(g, axis = 0, weights = [0.25, 0.75,1]))\n",
    "print(np.average(g, axis = 1, weights = [0.25, 0.75,1,1,1]))"
   ]
  },
  {
   "cell_type": "code",
   "execution_count": 11,
   "metadata": {},
   "outputs": [
    {
     "name": "stdout",
     "output_type": "stream",
     "text": [
      "[[45 48 65 68 68 10 84 22]\n",
      " [37 88 71 89 89 13 59 66]]\n",
      "[41.  68.  68.  78.5 78.5 11.5 71.5 44. ]\n",
      "[56.5 68.5]\n",
      "================\n",
      "[[ 51.5   7.    7.  446.5]]\n"
     ]
    }
   ],
   "source": [
    "np.random.seed(0)\n",
    "h = np.random.randint(1, 100 ,16).reshape(2,8)\n",
    "print(h)\n",
    "print(np.median(h, axis = 0))\n",
    "print(np.median(h, axis = 1))\n",
    "print(\"================\")\n",
    "\n",
    "print(np.nanmedian(np.array([[[np.nan, 2,3,4],[5,66,7,889],[98,7,554,np.nan]]]), axis = 1))"
   ]
  },
  {
   "cell_type": "code",
   "execution_count": 12,
   "metadata": {},
   "outputs": [
    {
     "name": "stdout",
     "output_type": "stream",
     "text": [
      "2.7938424357067015\n"
     ]
    }
   ],
   "source": [
    "i = np.array([[1,2], [2,3], [6,9]])\n",
    "print(np.std(i))"
   ]
  },
  {
   "cell_type": "code",
   "execution_count": 13,
   "metadata": {},
   "outputs": [
    {
     "name": "stdout",
     "output_type": "stream",
     "text": [
      "[4.66666667 9.55555556]\n",
      "[0.25 0.25 2.25]\n"
     ]
    }
   ],
   "source": [
    "print(np.var(i, axis = 0))\n",
    "print(np.var(i, axis = 1))"
   ]
  },
  {
   "cell_type": "code",
   "execution_count": 17,
   "metadata": {},
   "outputs": [
    {
     "name": "stdout",
     "output_type": "stream",
     "text": [
      "[[ 6  7  9 18 16]\n",
      " [ 5 10 11  2  2]\n",
      " [ 8 10  4  7 12]]\n",
      "[[ 1.         -0.73591052  0.19358774]\n",
      " [-0.73591052  1.         -0.45990854]\n",
      " [ 0.19358774 -0.45990854  1.        ]]\n"
     ]
    }
   ],
   "source": [
    "x = np.random.randint(1, 20, 15).reshape(3, 5)\n",
    "print(x)\n",
    "print(np.corrcoef(x))"
   ]
  },
  {
   "cell_type": "code",
   "execution_count": 18,
   "metadata": {},
   "outputs": [
    {
     "name": "stdout",
     "output_type": "stream",
     "text": [
      "[237 370 503]\n",
      "[237 370 503]\n",
      "[  5  14  26 104 237 370 503 596 692 792 385]\n",
      "[ 26 104 237 370 503 596 692]\n"
     ]
    }
   ],
   "source": [
    "print(np.correlate([1,2,3,4,5,6,7], [55, 66, 3,4,5]))\n",
    "print(np.correlate([1,2,3,4,5,6,7], [55, 66, 3,4,5], mode = 'valid'))\n",
    "print(np.correlate([1,2,3,4,5,6,7], [55, 66, 3,4,5], mode = 'full'))\n",
    "print(np.correlate([1,2,3,4,5,6,7], [55, 66, 3,4,5], mode = 'same'))"
   ]
  },
  {
   "cell_type": "code",
   "execution_count": 22,
   "metadata": {},
   "outputs": [
    {
     "data": {
      "text/plain": [
       "nan"
      ]
     },
     "execution_count": 22,
     "metadata": {},
     "output_type": "execute_result"
    }
   ],
   "source": [
    "z = f.flatten()\n",
    "np.amax(z)"
   ]
  },
  {
   "cell_type": "code",
   "execution_count": null,
   "metadata": {},
   "outputs": [],
   "source": []
  }
 ],
 "metadata": {
  "kernelspec": {
   "display_name": "Python 3",
   "language": "python",
   "name": "python3"
  },
  "language_info": {
   "codemirror_mode": {
    "name": "ipython",
    "version": 3
   },
   "file_extension": ".py",
   "mimetype": "text/x-python",
   "name": "python",
   "nbconvert_exporter": "python",
   "pygments_lexer": "ipython3",
   "version": "3.7.6"
  }
 },
 "nbformat": 4,
 "nbformat_minor": 4
}
