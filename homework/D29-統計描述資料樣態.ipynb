{
 "cells": [
  {
   "cell_type": "code",
   "execution_count": 1,
   "metadata": {},
   "outputs": [],
   "source": [
    "import matplotlib.pyplot as plt\n",
    "import numpy as np\n",
    "import pandas as pd\n",
    "from scipy import stats\n",
    "import math\n",
    "import statistics"
   ]
  },
  {
   "cell_type": "code",
   "execution_count": 2,
   "metadata": {},
   "outputs": [
    {
     "name": "stdout",
     "output_type": "stream",
     "text": [
      "男生身高平均 165.95\n",
      "statistics男生平均身高 165.95\n"
     ]
    }
   ],
   "source": [
    "boys=[164, 176, 169, 169, 165, 175, 159, 151, 144, 160, 183, 165, 156, 170,\n",
    " 164, 173, 165, 163, 177, 171]\n",
    "mnboy = np.mean(boys)\n",
    "print('男生身高平均', mnboy)\n",
    "\n",
    "stamnboy = statistics.mean(boys)\n",
    "print('statistics男生平均身高', stamnboy)"
   ]
  },
  {
   "cell_type": "code",
   "execution_count": 4,
   "metadata": {},
   "outputs": [
    {
     "name": "stdout",
     "output_type": "stream",
     "text": [
      "男生身高中位數 165.0\n",
      "statistics男生身高中位數 165.0\n"
     ]
    }
   ],
   "source": [
    "mdboy = np.median(boys)\n",
    "print('男生身高中位數', mdboy)\n",
    "\n",
    "stamdboy = statistics.median(boys)\n",
    "print('statistics男生身高中位數', stamdboy)"
   ]
  },
  {
   "cell_type": "code",
   "execution_count": 6,
   "metadata": {},
   "outputs": [
    {
     "name": "stdout",
     "output_type": "stream",
     "text": [
      "男生身高眾數 ModeResult(mode=array([165]), count=array([3]))\n",
      "男生身高眾數 165\n",
      "statistics男生身高眾數 165.95\n"
     ]
    }
   ],
   "source": [
    "modboy = stats.mode(boys, axis = None)\n",
    "print('男生身高眾數', modboy)\n",
    "print('男生身高眾數', modboy[0][0])\n",
    "\n",
    "stamodboy = statistics.mode(boys)\n",
    "print('statistics男生身高眾數', stamnboy)"
   ]
  },
  {
   "cell_type": "code",
   "execution_count": 7,
   "metadata": {},
   "outputs": [
    {
     "name": "stdout",
     "output_type": "stream",
     "text": [
      "39\n"
     ]
    }
   ],
   "source": [
    "def rangev(x):\n",
    "    return(max(x)-min(x))\n",
    "print(rangev(boys))"
   ]
  },
  {
   "cell_type": "code",
   "execution_count": 8,
   "metadata": {
    "scrolled": true
   },
   "outputs": [
    {
     "name": "stdout",
     "output_type": "stream",
     "text": [
      "男生身高變異數 84.89210526315789\n",
      "男生身高變異數 84.89210526315789\n"
     ]
    }
   ],
   "source": [
    "print('男生身高變異數', np.var(boys, ddof = 1))\n",
    "print('男生身高變異數', statistics.variance(boys))"
   ]
  },
  {
   "cell_type": "code",
   "execution_count": 11,
   "metadata": {},
   "outputs": [
    {
     "name": "stdout",
     "output_type": "stream",
     "text": [
      "男生身高標準差 9.213691185575838\n",
      "男生身高標準差 9.213691185575838\n"
     ]
    }
   ],
   "source": [
    "print('男生身高標準差', np.std(boys, ddof = 1))\n",
    "print('男生身高標準差', statistics.stdev(boys))"
   ]
  },
  {
   "cell_type": "code",
   "execution_count": 12,
   "metadata": {},
   "outputs": [
    {
     "name": "stdout",
     "output_type": "stream",
     "text": [
      "95百分位數： 176.1\n",
      "75百分位數： 171.5\n",
      "50百分位數： 165.0\n",
      "25百分位數： 162.25\n",
      "47百分位數： 165.0\n",
      "53百分位數： 165.28\n"
     ]
    }
   ],
   "source": [
    "print('95百分位數：', np.percentile(boys, 90))\n",
    "print('75百分位數：', np.percentile(boys, 75))\n",
    "print('50百分位數：', np.percentile(boys, 50))\n",
    "print('25百分位數：', np.percentile(boys, 25))\n",
    "print('47百分位數：', np.percentile(boys, 47))\n",
    "print('53百分位數：', stats.scoreatpercentile(boys, 53))"
   ]
  },
  {
   "cell_type": "code",
   "execution_count": 13,
   "metadata": {},
   "outputs": [
    {
     "name": "stdout",
     "output_type": "stream",
     "text": [
      "-0.47132127317376954\n",
      "0.19395882957876331\n"
     ]
    }
   ],
   "source": [
    "#偏度（正負偏（左右偏））\n",
    "print(stats.skew(boys))\n",
    "#峰度（>0 高峻， =0 常態峰， <0低闊峰）\n",
    "print(stats.kurtosis(boys))"
   ]
  },
  {
   "cell_type": "code",
   "execution_count": 14,
   "metadata": {},
   "outputs": [
    {
     "data": {
      "image/png": "[encoded data removed]",
      "text/plain": [
       "<Figure size 432x288 with 1 Axes>"
      ]
     },
     "metadata": {
      "needs_background": "light"
     },
     "output_type": "display_data"
    }
   ],
   "source": [
    "plt.hist(boys, alpha = .4, bins = 40)\n",
    "plt.title('boy, skewness={0}, kurtosis = {1}'.format(round(stats.skew(boys), 2), round(stats.kurtosis(boys), 2)))\n",
    "plt.axvline(x = np.mean(boys))\n",
    "plt.show()"
   ]
  },
  {
   "cell_type": "code",
   "execution_count": null,
   "metadata": {},
   "outputs": [],
   "source": []
  }
 ],
 "metadata": {
  "kernelspec": {
   "display_name": "Python 3",
   "language": "python",
   "name": "python3"
  },
  "language_info": {
   "codemirror_mode": {
    "name": "ipython",
    "version": 3
   },
   "file_extension": ".py",
   "mimetype": "text/x-python",
   "name": "python",
   "nbconvert_exporter": "python",
   "pygments_lexer": "ipython3",
   "version": "3.7.6"
  }
 },
 "nbformat": 4,
 "nbformat_minor": 4
}
