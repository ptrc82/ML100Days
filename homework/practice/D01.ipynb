{
 "cells": [
  {
   "cell_type": "code",
   "execution_count": 2,
   "metadata": {},
   "outputs": [
    {
     "data": {
      "text/plain": [
       "'1.18.1'"
      ]
     },
     "execution_count": 2,
     "metadata": {},
     "output_type": "execute_result"
    }
   ],
   "source": [
    "import numpy as np\n",
    "np.__version__"
   ]
  },
  {
   "cell_type": "code",
   "execution_count": 10,
   "metadata": {},
   "outputs": [
    {
     "name": "stdout",
     "output_type": "stream",
     "text": [
      "<class 'numpy.ndarray'>\n",
      "<class 'numpy.ndarray'>\n",
      "[1 2 3 4 5]\n",
      "[6 7 8]\n"
     ]
    }
   ],
   "source": [
    "a = np.array([1,2,3,4,5])\n",
    "a\n",
    "b = np.array((6,7,8))\n",
    "print(type(a))\n",
    "print(type(b))\n",
    "print(a)\n",
    "print(b)"
   ]
  },
  {
   "cell_type": "code",
   "execution_count": 11,
   "metadata": {},
   "outputs": [
    {
     "name": "stdout",
     "output_type": "stream",
     "text": [
      "[ 1  2  3  4  5  6  7  8  9 10 11 12 13 14 15 16 17 18 19 20]\n",
      "[ 1.  2.  3.  4.  5.  6.  7.  8.  9. 10. 11. 12. 13. 14. 15. 16. 17. 18.\n",
      " 19. 20.]\n",
      "(array([ 3.        ,  3.53333333,  4.06666667,  4.6       ,  5.13333333,\n",
      "        5.66666667,  6.2       ,  6.73333333,  7.26666667,  7.8       ,\n",
      "        8.33333333,  8.86666667,  9.4       ,  9.93333333, 10.46666667,\n",
      "       11.        ]), 0.5333333333333333)\n"
     ]
    }
   ],
   "source": [
    "c = np.arange(1,21,1)\n",
    "d = np.linspace(1,21, num = 20, endpoint = False, retstep = False, dtype = None )\n",
    "print(c)\n",
    "print(d)\n",
    "e = np.linspace(3.0, 11.0, num = 16, endpoint = True, retstep = True)\n",
    "print(e)"
   ]
  },
  {
   "cell_type": "code",
   "execution_count": 19,
   "metadata": {},
   "outputs": [
    {
     "name": "stdout",
     "output_type": "stream",
     "text": [
      "[[1 2 3]\n",
      " [4 5 6]]\n",
      "(2, 3)\n",
      "[[[ 1  2  3  4  5]\n",
      "  [ 6  7  8  9 10]]\n",
      "\n",
      " [[ 1  2  3  4  5]\n",
      "  [ 6  7  8  9 10]]]\n",
      "(2, 2, 5)\n",
      "3\n"
     ]
    }
   ],
   "source": [
    "f = np.array([[1,2,3], [4,5,6]])\n",
    "print(f)\n",
    "print(f.shape)\n",
    "\n",
    "g = np.array([[[1,2,3,4,5],[6,7,8,9,10]],\n",
    "            [[1,2,3,4,5],[6,7,8,9,10]]])\n",
    "print(g)\n",
    "print(g.shape)\n",
    "print(g.ndim)"
   ]
  },
  {
   "cell_type": "code",
   "execution_count": 24,
   "metadata": {},
   "outputs": [
    {
     "name": "stdout",
     "output_type": "stream",
     "text": [
      "[[0. 0.]\n",
      " [0. 0.]\n",
      " [0. 0.]\n",
      " [0. 0.]\n",
      " [0. 0.]\n",
      " [0. 0.]\n",
      " [0. 0.]\n",
      " [0. 0.]]\n",
      "[[1. 1.]\n",
      " [1. 1.]\n",
      " [1. 1.]\n",
      " [1. 1.]\n",
      " [1. 1.]\n",
      " [1. 1.]\n",
      " [1. 1.]\n",
      " [1. 1.]]\n",
      "[[[1.28822975e-231 1.28822975e-231]\n",
      "  [3.95252517e-323 0.00000000e+000]]\n",
      "\n",
      " [[0.00000000e+000 0.00000000e+000]\n",
      "  [0.00000000e+000 0.00000000e+000]]]\n"
     ]
    }
   ],
   "source": [
    "h = np.zeros((8,2))\n",
    "i = np.ones((8,2))\n",
    "j =np.empty((2,2,2))\n",
    "print(h)\n",
    "print(i)\n",
    "print(j)"
   ]
  },
  {
   "cell_type": "code",
   "execution_count": 28,
   "metadata": {},
   "outputs": [
    {
     "name": "stdout",
     "output_type": "stream",
     "text": [
      "[[0.43758721 0.891773   0.96366276]\n",
      " [0.38344152 0.79172504 0.52889492]]\n",
      "[[ 0.76103773  0.12167502]\n",
      " [ 0.44386323  0.33367433]\n",
      " [ 1.49407907 -0.20515826]\n",
      " [ 0.3130677  -0.85409574]\n",
      " [-2.55298982  0.6536186 ]\n",
      " [ 0.8644362  -0.74216502]\n",
      " [ 2.26975462 -1.45436567]\n",
      " [ 0.04575852 -0.18718385]]\n"
     ]
    }
   ],
   "source": [
    "k = np.random.rand(2,3)\n",
    "print(k)\n",
    "l = np.random.randn(8,2)\n",
    "print(l)"
   ]
  },
  {
   "cell_type": "code",
   "execution_count": 3,
   "metadata": {
    "scrolled": true
   },
   "outputs": [
    {
     "data": {
      "text/plain": [
       "array([[2, 3],\n",
       "       [6, 7]])"
      ]
     },
     "execution_count": 3,
     "metadata": {},
     "output_type": "execute_result"
    }
   ],
   "source": [
    "m = np.array([[1,2,3], [5,6,7]])\n",
    "m[: , 1:]"
   ]
  },
  {
   "cell_type": "code",
   "execution_count": null,
   "metadata": {},
   "outputs": [],
   "source": []
  }
 ],
 "metadata": {
  "kernelspec": {
   "display_name": "Python 3",
   "language": "python",
   "name": "python3"
  },
  "language_info": {
   "codemirror_mode": {
    "name": "ipython",
    "version": 3
   },
   "file_extension": ".py",
   "mimetype": "text/x-python",
   "name": "python",
   "nbconvert_exporter": "python",
   "pygments_lexer": "ipython3",
   "version": "3.7.6"
  }
 },
 "nbformat": 4,
 "nbformat_minor": 4
}
