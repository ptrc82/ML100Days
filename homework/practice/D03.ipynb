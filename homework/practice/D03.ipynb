{
 "cells": [
  {
   "cell_type": "code",
   "execution_count": 1,
   "metadata": {},
   "outputs": [],
   "source": [
    "import numpy as np"
   ]
  },
  {
   "cell_type": "code",
   "execution_count": 2,
   "metadata": {},
   "outputs": [
    {
     "data": {
      "text/plain": [
       "110"
      ]
     },
     "execution_count": 2,
     "metadata": {},
     "output_type": "execute_result"
    }
   ],
   "source": [
    "np.add(28, 82)"
   ]
  },
  {
   "cell_type": "code",
   "execution_count": 10,
   "metadata": {},
   "outputs": [
    {
     "name": "stdout",
     "output_type": "stream",
     "text": [
      "[ 1 11 21 31 41] [51 61 71 81 91]\n",
      "-----------\n",
      "[ 52  72  92 112 132]\n",
      "[ 52  72  92 112 132]\n",
      "-----------\n",
      "[-50 -50 -50 -50 -50]\n",
      "[-50 -50 -50 -50 -50]\n",
      "-----------\n",
      "[  51  671 1491 2511 3731]\n",
      "[  51  671 1491 2511 3731]\n",
      "-----------\n",
      "[0.01960784 0.18032787 0.29577465 0.38271605 0.45054945]\n",
      "[0.01960784 0.18032787 0.29577465 0.38271605 0.45054945]\n",
      "-----------\n",
      "[ 1 11 21 31 41]\n",
      "[ 1 11 21 31 41]\n"
     ]
    }
   ],
   "source": [
    "a = np.arange(1,50, 10)\n",
    "b = np.arange(51,100,10)\n",
    "print(a,b)\n",
    "print('-----------')\n",
    "print(a + b)\n",
    "print(np.add(a,b))\n",
    "print('-----------')\n",
    "print(a - b)\n",
    "print(np.subtract(a,b))\n",
    "print('-----------')\n",
    "print(a*b)\n",
    "print(np.multiply(a,b))\n",
    "print('-----------')\n",
    "print(a / b)\n",
    "print(np.divide(a,b))\n",
    "print('-----------')\n",
    "print(a % b)\n",
    "print(np.mod(a,b))"
   ]
  },
  {
   "cell_type": "code",
   "execution_count": 20,
   "metadata": {},
   "outputs": [
    {
     "name": "stdout",
     "output_type": "stream",
     "text": [
      "[ 0  3  6  9 12 15 18 21 24 27 30 33 36 39 42 45]\n",
      "[[ 0  1  2  3  4  5  6  7  8  9 10 11 12 13 14 15]] [[ 0  1  2  3  4  5  6  7  8  9 10 11 12 13 14 15]\n",
      " [16 17 18 19 20 21 22 23 24 25 26 27 28 29 30 31]]\n",
      "[[ 0  2  4  6  8 10 12 14 16 18 20 22 24 26 28 30]\n",
      " [16 18 20 22 24 26 28 30 32 34 36 38 40 42 44 46]]\n"
     ]
    }
   ],
   "source": [
    "c = np.arange(16)\n",
    "cc = 3\n",
    "d = np.arange(32)\n",
    "e = c.reshape(1,16)\n",
    "f = d.reshape(2,16)\n",
    "print(c*cc)\n",
    "print(e,f)\n",
    "print(e + f)"
   ]
  },
  {
   "cell_type": "code",
   "execution_count": 21,
   "metadata": {},
   "outputs": [
    {
     "name": "stdout",
     "output_type": "stream",
     "text": [
      "496\n",
      "[16 18 20 22 24 26 28 30 32 34 36 38 40 42 44 46]\n",
      "[120 376]\n"
     ]
    }
   ],
   "source": [
    "print(f.sum())\n",
    "print(f.sum(axis = 0))\n",
    "print(f.sum(axis = 1))"
   ]
  },
  {
   "cell_type": "code",
   "execution_count": 39,
   "metadata": {},
   "outputs": [
    {
     "name": "stdout",
     "output_type": "stream",
     "text": [
      "[[0 1 2 3 4]\n",
      " [5 6 7 8 9]] ------ [[ 0 10 20 30 40]\n",
      " [50 60 70 80 90]]\n",
      "[[                 1                 10                400\n",
      "               27000            2560000]\n",
      " [         312500000        46656000000      8235430000000\n",
      "    1677721600000000 387420489000000000]]\n",
      "[5 6 7 8 9]\n",
      "[[        0         1       128      6561    262144]\n",
      " [     3125     46656    823543  16777216 387420489]]\n"
     ]
    }
   ],
   "source": [
    "g = np.arange(10)\n",
    "h = np.arange(0,100,10)\n",
    "j = np.arange(5,10)\n",
    "gg = g.reshape(2,5)\n",
    "hh = h.reshape(2,5)\n",
    "print(gg,\"------\",hh)\n",
    "print(np.power(hh,gg))\n",
    "print(j)\n",
    "k = gg ** j\n",
    "print(gg ** j)"
   ]
  },
  {
   "cell_type": "code",
   "execution_count": 40,
   "metadata": {},
   "outputs": [
    {
     "data": {
      "text/plain": [
       "array([[0.00000000e+00, 1.00000000e+00, 1.13137085e+01, 8.10000000e+01,\n",
       "        5.12000000e+02],\n",
       "       [5.59016994e+01, 2.16000000e+02, 9.07492700e+02, 4.09600000e+03,\n",
       "        1.96830000e+04]])"
      ]
     },
     "execution_count": 40,
     "metadata": {},
     "output_type": "execute_result"
    }
   ],
   "source": [
    "np.sqrt(k)"
   ]
  },
  {
   "cell_type": "code",
   "execution_count": 41,
   "metadata": {},
   "outputs": [
    {
     "data": {
      "text/plain": [
       "2.718281828459045"
      ]
     },
     "execution_count": 41,
     "metadata": {},
     "output_type": "execute_result"
    }
   ],
   "source": [
    "np.e"
   ]
  },
  {
   "cell_type": "code",
   "execution_count": 42,
   "metadata": {},
   "outputs": [
    {
     "data": {
      "text/plain": [
       "2.718281828459045"
      ]
     },
     "execution_count": 42,
     "metadata": {},
     "output_type": "execute_result"
    }
   ],
   "source": [
    "np.exp(1)"
   ]
  },
  {
   "cell_type": "code",
   "execution_count": 43,
   "metadata": {},
   "outputs": [
    {
     "data": {
      "text/plain": [
       "array([1.00000000e+00, 2.71828183e+00, 7.38905610e+00, 2.00855369e+01,\n",
       "       5.45981500e+01, 1.48413159e+02, 4.03428793e+02, 1.09663316e+03])"
      ]
     },
     "execution_count": 43,
     "metadata": {},
     "output_type": "execute_result"
    }
   ],
   "source": [
    "np.exp(np.arange(8))"
   ]
  },
  {
   "cell_type": "code",
   "execution_count": 49,
   "metadata": {},
   "outputs": [
    {
     "name": "stdout",
     "output_type": "stream",
     "text": [
      "4.605170185988092\n",
      "2.0\n",
      "5.0\n",
      "2.0\n",
      "[0.         0.69314718 1.09861229 1.38629436 1.60943791]\n"
     ]
    }
   ],
   "source": [
    "print(np.log(100))\n",
    "print(np.log10(100))\n",
    "print(np.log2(32))\n",
    "print(np.log(64)/np.log(8))\n",
    "l = np.arange(1,6)\n",
    "print(np.log(l))"
   ]
  },
  {
   "cell_type": "code",
   "execution_count": 54,
   "metadata": {},
   "outputs": [
    {
     "name": "stdout",
     "output_type": "stream",
     "text": [
      "[ 4.6  4.6 -7.6  8.   4.5 -4.5]\n",
      "[ 5.  5. -8.  8.  4. -4.]\n",
      "[ 5.  5. -8.  8.  4. -4.]\n",
      "[ 4.  4. -7.  8.  4. -4.]\n",
      "[ 4.  4. -8.  8.  4. -5.]\n",
      "[ 5.  5. -7.  8.  5. -4.]\n",
      "[ 4.  4. -7.  8.  4. -4.]\n"
     ]
    }
   ],
   "source": [
    "m = np.array([4.65, 4.55, -7.57, 8, 4.5, -4.5])\n",
    "## 四捨、五取最近偶數、六入，而非我們一般講的四捨五入。\n",
    "print(np.round(m, decimals=1))\n",
    "print(np.round(m, decimals=0))\n",
    "print(np.rint(m))\n",
    "print(np.trunc(m))\n",
    "print(np.floor(m))\n",
    "print(np.ceil(m))\n",
    "print(np.fix(m))"
   ]
  },
  {
   "cell_type": "code",
   "execution_count": 55,
   "metadata": {},
   "outputs": [
    {
     "data": {
      "text/plain": [
       "array([4.65, 4.55, 7.57, 8.  , 4.5 , 4.5 ])"
      ]
     },
     "execution_count": 55,
     "metadata": {},
     "output_type": "execute_result"
    }
   ],
   "source": [
    "np.abs(m)"
   ]
  },
  {
   "cell_type": "code",
   "execution_count": null,
   "metadata": {},
   "outputs": [],
   "source": []
  }
 ],
 "metadata": {
  "kernelspec": {
   "display_name": "Python 3",
   "language": "python",
   "name": "python3"
  },
  "language_info": {
   "codemirror_mode": {
    "name": "ipython",
    "version": 3
   },
   "file_extension": ".py",
   "mimetype": "text/x-python",
   "name": "python",
   "nbconvert_exporter": "python",
   "pygments_lexer": "ipython3",
   "version": "3.7.6"
  }
 },
 "nbformat": 4,
 "nbformat_minor": 4
}
