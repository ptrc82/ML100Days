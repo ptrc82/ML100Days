{
 "cells": [
  {
   "cell_type": "code",
   "execution_count": 1,
   "metadata": {},
   "outputs": [],
   "source": [
    "#時間序列的資料非常注重時間的間隔\n",
    "import pandas as pd\n",
    "import numpy as np"
   ]
  },
  {
   "cell_type": "code",
   "execution_count": 2,
   "metadata": {},
   "outputs": [
    {
     "data": {
      "text/plain": [
       "2020-01-31    0.208089\n",
       "2020-02-29    1.015114\n",
       "2020-03-31   -0.078706\n",
       "2020-04-30    1.965909\n",
       "2020-05-31   -0.029643\n",
       "2020-06-30    1.610218\n",
       "2020-07-31    1.206634\n",
       "2020-08-31   -0.222155\n",
       "2020-09-30    0.259188\n",
       "2020-10-31    0.631749\n",
       "Freq: M, dtype: float64"
      ]
     },
     "execution_count": 2,
     "metadata": {},
     "output_type": "execute_result"
    }
   ],
   "source": [
    "a = pd.date_range('1/1/2020', periods = 10, freq = 'M')\n",
    "b = pd.Series(np.random.randn(len(a)), index = a)\n",
    "b"
   ]
  },
  {
   "cell_type": "code",
   "execution_count": 3,
   "metadata": {},
   "outputs": [
    {
     "data": {
      "text/plain": [
       "2020-01-31 00:00    0.208089\n",
       "2020-02-29 00:00    1.015114\n",
       "2020-03-31 00:00   -0.078706\n",
       "2020-04-30 00:00    1.965909\n",
       "2020-05-31 00:00   -0.029643\n",
       "2020-06-30 00:00    1.610218\n",
       "2020-07-31 00:00    1.206634\n",
       "2020-08-31 00:00   -0.222155\n",
       "2020-09-30 00:00    0.259188\n",
       "2020-10-31 00:00    0.631749\n",
       "Freq: H, dtype: float64"
      ]
     },
     "execution_count": 3,
     "metadata": {},
     "output_type": "execute_result"
    }
   ],
   "source": [
    "#時間間隔很重要，可以藉由.to_period()控制時間長度，參數freq代表時間頻率(Y:年、M:月、D:日、H:小時)\n",
    "b.to_period(freq = 'H')"
   ]
  },
  {
   "cell_type": "code",
   "execution_count": 4,
   "metadata": {},
   "outputs": [
    {
     "data": {
      "text/plain": [
       "2020-02-29    1.015114\n",
       "2020-03-31   -0.078706\n",
       "2020-04-30    1.965909\n",
       "2020-05-31   -0.029643\n",
       "2020-06-30    1.610218\n",
       "2020-07-31    1.206634\n",
       "2020-08-31   -0.222155\n",
       "2020-09-30    0.259188\n",
       "Freq: M, dtype: float64"
      ]
     },
     "execution_count": 4,
     "metadata": {},
     "output_type": "execute_result"
    }
   ],
   "source": [
    "#索引取出需要的時間點\n",
    "b['2020-02-01':'2020-09-30']"
   ]
  },
  {
   "cell_type": "code",
   "execution_count": 5,
   "metadata": {},
   "outputs": [
    {
     "data": {
      "text/plain": [
       "2020-01-31    0.208089\n",
       "2020-02-29    1.015114\n",
       "2020-03-31   -0.078706\n",
       "2020-04-30    1.965909\n",
       "2020-05-31   -0.029643\n",
       "2020-06-30    1.610218\n",
       "2020-07-31    1.206634\n",
       "2020-08-31   -0.222155\n",
       "2020-09-30    0.259188\n",
       "2020-10-31    0.631749\n",
       "Freq: M, dtype: float64"
      ]
     },
     "execution_count": 5,
     "metadata": {},
     "output_type": "execute_result"
    }
   ],
   "source": [
    "b['2020']"
   ]
  },
  {
   "cell_type": "code",
   "execution_count": 6,
   "metadata": {},
   "outputs": [
    {
     "data": {
      "text/plain": [
       "2020-03-31   -0.078706\n",
       "2020-04-30    1.965909\n",
       "2020-05-31   -0.029643\n",
       "Freq: M, dtype: float64"
      ]
     },
     "execution_count": 6,
     "metadata": {},
     "output_type": "execute_result"
    }
   ],
   "source": [
    "b['2020-03':'2020-05']"
   ]
  },
  {
   "cell_type": "code",
   "execution_count": 7,
   "metadata": {},
   "outputs": [
    {
     "data": {
      "text/plain": [
       "(str, pandas._libs.tslibs.timestamps.Timestamp)"
      ]
     },
     "execution_count": 7,
     "metadata": {},
     "output_type": "execute_result"
    }
   ],
   "source": [
    "#時間資料以及字串差別\n",
    "c = '2020-03-13'\n",
    "d = pd.Timestamp(2021,3,13)\n",
    "type(c), type(d)"
   ]
  },
  {
   "cell_type": "code",
   "execution_count": 8,
   "metadata": {},
   "outputs": [
    {
     "data": {
      "text/plain": [
       "('2021-03-13',\n",
       " str,\n",
       " Timestamp('2020-03-13 00:00:00'),\n",
       " pandas._libs.tslibs.timestamps.Timestamp)"
      ]
     },
     "execution_count": 8,
     "metadata": {},
     "output_type": "execute_result"
    }
   ],
   "source": [
    "#時間字串轉換\n",
    "e = d.strftime('%Y-%m-%d') \n",
    "f = pd.to_datetime(c)\n",
    "e, type(e), f, type(f)"
   ]
  },
  {
   "cell_type": "code",
   "execution_count": 9,
   "metadata": {},
   "outputs": [
    {
     "data": {
      "text/plain": [
       "2020-02-05    0.208089\n",
       "2020-03-05    1.015114\n",
       "2020-04-05   -0.078706\n",
       "2020-05-05    1.965909\n",
       "2020-06-05   -0.029643\n",
       "2020-07-05    1.610218\n",
       "2020-08-05    1.206634\n",
       "2020-09-05   -0.222155\n",
       "2020-10-05    0.259188\n",
       "2020-11-05    0.631749\n",
       "dtype: float64"
      ]
     },
     "execution_count": 9,
     "metadata": {},
     "output_type": "execute_result"
    }
   ],
   "source": [
    "#移動（shifting）指的是沿著時間軸將資料前移或後移\n",
    "b.shift(5, freq = 'D')"
   ]
  },
  {
   "cell_type": "code",
   "execution_count": 10,
   "metadata": {},
   "outputs": [
    {
     "data": {
      "text/plain": [
       "(2021, 3, 13, 'Saturday', 10)"
      ]
     },
     "execution_count": 10,
     "metadata": {},
     "output_type": "execute_result"
    }
   ],
   "source": [
    "d.year, d.month, d.day, d.day_name(), d.weekofyear"
   ]
  },
  {
   "cell_type": "code",
   "execution_count": 11,
   "metadata": {},
   "outputs": [
    {
     "data": {
      "text/plain": [
       "Timedelta('284 days 00:00:00')"
      ]
     },
     "execution_count": 11,
     "metadata": {},
     "output_type": "execute_result"
    }
   ],
   "source": [
    "#Timestamps可以直接加時間或是計算時間差距\n",
    "g1 = pd.Timestamp(2021,3,13)\n",
    "g2 = pd.Timestamp(2021,12,22)\n",
    "g2 - g1"
   ]
  },
  {
   "cell_type": "code",
   "execution_count": 12,
   "metadata": {},
   "outputs": [
    {
     "data": {
      "text/plain": [
       "Timestamp('2021-03-19 00:00:00')"
      ]
     },
     "execution_count": 12,
     "metadata": {},
     "output_type": "execute_result"
    }
   ],
   "source": [
    "g1 + pd.Timedelta(days = 6)"
   ]
  },
  {
   "cell_type": "code",
   "execution_count": 15,
   "metadata": {},
   "outputs": [
    {
     "data": {
      "text/plain": [
       "(Timestamp('2021-03-19 00:00:00'), 'Friday')"
      ]
     },
     "execution_count": 15,
     "metadata": {},
     "output_type": "execute_result"
    }
   ],
   "source": [
    "h = g1 + pd.offsets.BDay(5)\n",
    "h, h.day_name()"
   ]
  },
  {
   "cell_type": "code",
   "execution_count": 38,
   "metadata": {},
   "outputs": [
    {
     "data": {
      "text/plain": [
       "2021Q1    1.0\n",
       "2021Q2    NaN\n",
       "2021Q3    NaN\n",
       "2021Q4    NaN\n",
       "2022Q1    2.0\n",
       "2022Q2    NaN\n",
       "2022Q3    NaN\n",
       "2022Q4    NaN\n",
       "2023Q1    3.0\n",
       "2023Q2    NaN\n",
       "2023Q3    NaN\n",
       "2023Q4    NaN\n",
       "2024Q1    4.0\n",
       "2024Q2    NaN\n",
       "2024Q3    NaN\n",
       "2024Q4    NaN\n",
       "2025Q1    5.0\n",
       "2025Q2    NaN\n",
       "2025Q3    NaN\n",
       "2025Q4    NaN\n",
       "Freq: Q-DEC, dtype: float64"
      ]
     },
     "execution_count": 38,
     "metadata": {},
     "output_type": "execute_result"
    }
   ],
   "source": [
    "#更改時間頻率如果從年轉成季可以運用resample函數將年轉成季，如沒有值的填上nan\n",
    "i = pd.Series([1,2,3,4,5], index = pd.period_range('2021-03-13', freq = 'Y', periods = 5))\n",
    "i.resample('Q').asfreq()\n"
   ]
  },
  {
   "cell_type": "code",
   "execution_count": null,
   "metadata": {},
   "outputs": [],
   "source": []
  }
 ],
 "metadata": {
  "kernelspec": {
   "display_name": "Python 3",
   "language": "python",
   "name": "python3"
  },
  "language_info": {
   "codemirror_mode": {
    "name": "ipython",
    "version": 3
   },
   "file_extension": ".py",
   "mimetype": "text/x-python",
   "name": "python",
   "nbconvert_exporter": "python",
   "pygments_lexer": "ipython3",
   "version": "3.7.6"
  }
 },
 "nbformat": 4,
 "nbformat_minor": 4
}
